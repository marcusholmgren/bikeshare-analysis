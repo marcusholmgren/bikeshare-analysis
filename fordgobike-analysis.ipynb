{
  "cells": [
    {
      "cell_type": "markdown",
      "metadata": {
        "collapsed": true,
        "pycharm": {
          "name": "#%% md\n"
        }
      },
      "source": "# Data Analysis of the Ford GoBike\u0027s trip data"
    },
    {
      "cell_type": "code",
      "execution_count": 1,
      "outputs": [],
      "source": "import requests\nimport os, sys\nimport re\nimport pandas as pd\nimport numpy as np\nimport zipfile\nimport json\nimport matplotlib.pyplot as plt\nimport seaborn as sns\n%matplotlib inline",
      "metadata": {
        "pycharm": {
          "metadata": false,
          "name": "#%%\n",
          "is_executing": false
        }
      }
    },
    {
      "cell_type": "code",
      "execution_count": 5,
      "outputs": [],
      "source": "DOWNLOADS_DIR \u003d \u0027downloads\u0027\nDATA_DIR \u003d \u0027data\u0027\nIMAGES_DIR \u003d \u0027images\u0027\n\ndef ensure_dir(file_path\u003dDOWNLOADS_DIR):\n    \"\"\"\n    Ensure directory exists or create it.\n    :param file_path: directory path\n    :return: \n    \"\"\"\n    if not os.path.exists(file_path):\n        os.makedirs(file_path)\n\n        \ndef download(*urls):\n    \"\"\"\n    Download files from the provided URL.\n    :param urls: variable number of URL\n    :return: None\n    \"\"\"\n    ensure_dir()\n    for url in urls:\n        url_file \u003d os.path.join(DOWNLOADS_DIR, url.split(os.path.sep)[-1]).replace(\u0027-\u0027, \u0027_\u0027)\n        if not os.path.exists(url_file):\n            response \u003d requests.get(url, allow_redirects\u003dTrue)\n            with open(url_file, \u0027wb\u0027) as handle:\n                handle.write(response.content)\n                sys.stdout.write(\u0027.\u0027)\n    sys.stdout.write(\u0027\\n\u0027)\n\n\ndef download_img(name, url):\n    \"\"\"\n    Download image from the provided URL\n    :param name: name of image file\n    :param url: URL for image\n    :return: None\n    \"\"\"\n    ensure_dir(IMAGES_DIR)\n    image_file \u003d os.path.join(IMAGES_DIR, f\"{name}.{url.split(\u0027.\u0027)[-1]}\")\n    if not os.path.exists(image_file):\n        response \u003d requests.get(url, allow_redirects\u003dTrue)\n        with open(image_file, \u0027wb\u0027) as handle:\n            handle.write(response.content)\n\n\ndef extract_zip(file, path\u003dDATA_DIR):\n    \"\"\"\n    Extract alla files from a zip archive.\n    :param file: file name of archive.\n    :param path: target directory for unzipped files.\n    :return: a list of file names in the archive.\n    \"\"\"\n    with zipfile.ZipFile(os.path.join(DOWNLOADS_DIR, file), \u0027r\u0027) as zip_ref:\n        zip_ref.extractall(path)\n        return zip_ref.namelist()\n\ndef rename(file_from, file_to, directory\u003dDOWNLOADS_DIR):\n    \"\"\"\n    Rename file in the \n    :param file_from: Existing file to rename\n    :param file_to: Target file name\n    :param directory: Source directory, defaults to DOWNLOADS_DIR\n    :return: None\n    \"\"\"\n    source \u003d os.path.join(directory, file_from)\n    if os.path.exists(source):\n        os.rename(source, os.path.join(directory, file_to))\n\n\ndef file_exists(filename, directory\u003dDOWNLOADS_DIR):\n    \"\"\"\n    Check if the file exists in a optional provided directory.\n    :param filename: name of file\n    :param directory: Source directory, defaults to DOWNLOADS_DIR\n    :return: True if file exists.\n    \"\"\"\n    return os.path.exists(os.path.join(directory, filename))",
      "metadata": {
        "pycharm": {
          "metadata": false,
          "name": "#%%\n",
          "is_executing": false
        }
      }
    },
    {
      "cell_type": "markdown",
      "source": "## Gather",
      "metadata": {
        "pycharm": {
          "metadata": false,
          "name": "#%% md\n"
        }
      }
    },
    {
      "cell_type": "code",
      "source": "download(\u0027https://s3.amazonaws.com/fordgobike-data/201801-fordgobike-tripdata.csv.zip\u0027, \n        \u0027https://s3.amazonaws.com/fordgobike-data/201802-fordgobike-tripdata.csv.zip\u0027, \n        \u0027https://s3.amazonaws.com/fordgobike-data/201803-fordgobike-tripdata.csv.zip\u0027,\n        \u0027https://s3.amazonaws.com/fordgobike-data/201804-fordgobike-tripdata.csv.zip\u0027,\n        \u0027https://s3.amazonaws.com/fordgobike-data/201805-fordgobike-tripdata.csv.zip\u0027,\n        \u0027https://s3.amazonaws.com/fordgobike-data/201806-fordgobike-tripdata.csv.zip\u0027,\n        \u0027https://s3.amazonaws.com/fordgobike-data/201807-fordgobike-tripdata.csv.zip\u0027,\n        \u0027https://s3.amazonaws.com/fordgobike-data/201808-fordgobike-tripdata.csv.zip\u0027,\n        \u0027https://s3.amazonaws.com/fordgobike-data/201809-fordgobike-tripdata.csv.zip\u0027,\n        \u0027https://s3.amazonaws.com/fordgobike-data/201810-fordgobike-tripdata.csv.zip\u0027,\n        \u0027https://s3.amazonaws.com/fordgobike-data/201811-fordgobike-tripdata.csv.zip\u0027,\n        \u0027https://s3.amazonaws.com/fordgobike-data/201812-fordgobike-tripdata.csv.zip\u0027,\n        \u0027https://s3.amazonaws.com/fordgobike-data/201901-fordgobike-tripdata.csv.zip\u0027,\n        \u0027https://s3.amazonaws.com/fordgobike-data/201902-fordgobike-tripdata.csv.zip\u0027)",
      "metadata": {
        "pycharm": {
          "metadata": false,
          "name": "#%%\n",
          "is_executing": false
        }
      },
      "execution_count": 19,
      "outputs": [
        {
          "name": "stdout",
          "text": [
            ".",
            ".",
            ".",
            ".",
            ".",
            ".",
            ".",
            ".",
            ".",
            ".",
            ".",
            ".",
            ".",
            ".\n"
          ],
          "output_type": "stream"
        }
      ]
    },
    {
      "cell_type": "code",
      "execution_count": 20,
      "outputs": [
        {
          "name": "stdout",
          "text": [
            "201801_fordgobike_tripdata.csv.zip\n201812_fordgobike_tripdata.csv.zip\n201804_fordgobike_tripdata.csv.zip\n201805_fordgobike_tripdata.csv.zip\n201901_fordgobike_tripdata.csv.zip\n201809_fordgobike_tripdata.csv.zip\n201902_fordgobike_tripdata.csv.zip\n201803_fordgobike_tripdata.csv.zip\n201810_fordgobike_tripdata.csv.zip\n201806_fordgobike_tripdata.csv.zip\n201808_fordgobike_tripdata.csv.zip\n201811_fordgobike_tripdata.csv.zip\n201807_fordgobike_tripdata.csv.zip\n201802_fordgobike_tripdata.csv.zip\n"
          ],
          "output_type": "stream"
        }
      ],
      "source": "for file in os.listdir(DOWNLOADS_DIR):\n    print(file)",
      "metadata": {
        "pycharm": {
          "metadata": false,
          "name": "#%%\n",
          "is_executing": false
        }
      }
    },
    {
      "cell_type": "code",
      "execution_count": 22,
      "outputs": [],
      "source": "zip_files \u003d [file for file in os.listdir(DOWNLOADS_DIR) if file.endswith(\u0027.zip\u0027) and os.path.isfile(os.path.join(DOWNLOADS_DIR, file))]",
      "metadata": {
        "pycharm": {
          "metadata": false,
          "name": "#%%\n",
          "is_executing": false
        }
      }
    },
    {
      "cell_type": "code",
      "execution_count": 23,
      "outputs": [
        {
          "name": "stdout",
          "text": [
            "201802-fordgobike-tripdata.csv\n201811-fordgobike-tripdata.csv\n201809-fordgobike-tripdata.csv\n201806-fordgobike-tripdata.csv\n201805-fordgobike-tripdata.csv\n201812-fordgobike-tripdata.csv\n201801-fordgobike-tripdata.csv\n201901-fordgobike-tripdata.csv\n201807-fordgobike-tripdata.csv\n201808-fordgobike-tripdata.csv\n201810-fordgobike-tripdata.csv\n201803-fordgobike-tripdata.csv\n201804-fordgobike-tripdata.csv\n201902-fordgobike-tripdata.csv\n"
          ],
          "output_type": "stream"
        }
      ],
      "source": "for file in zip_files:\n    extract_zip(file, DATA_DIR)\nfor file in os.listdir(DATA_DIR):\n    print(file)",
      "metadata": {
        "pycharm": {
          "metadata": false,
          "name": "#%%\n",
          "is_executing": false
        }
      }
    },
    {
      "cell_type": "code",
      "execution_count": 17,
      "outputs": [],
      "source": "tripdata_files \u003d [file for file in os.listdir(DATA_DIR) if file.endswith(\u0027.csv\u0027) and os.path.isfile(os.path.join(DATA_DIR, file))]",
      "metadata": {
        "pycharm": {
          "metadata": false,
          "name": "#%%\n",
          "is_executing": false
        }
      }
    },
    {
      "cell_type": "markdown",
      "source": "## Assess\nok",
      "metadata": {
        "pycharm": {
          "metadata": false,
          "name": "#%% md\n"
        }
      }
    },
    {
      "cell_type": "code",
      "execution_count": null,
      "outputs": [],
      "source": "",
      "metadata": {
        "pycharm": {
          "metadata": false,
          "name": "#%%\n"
        }
      }
    },
    {
      "cell_type": "markdown",
      "source": "## Clean",
      "metadata": {
        "pycharm": {
          "metadata": false,
          "name": "#%% md\n"
        }
      }
    },
    {
      "cell_type": "code",
      "execution_count": null,
      "outputs": [],
      "source": "",
      "metadata": {
        "pycharm": {
          "metadata": false,
          "name": "#%%\n"
        }
      }
    },
    {
      "cell_type": "markdown",
      "source": "## Exploratory Data Analysis",
      "metadata": {
        "pycharm": {
          "metadata": false,
          "name": "#%% md\n"
        }
      }
    },
    {
      "cell_type": "code",
      "execution_count": null,
      "outputs": [],
      "source": "",
      "metadata": {
        "pycharm": {
          "metadata": false,
          "name": "#%%\n"
        }
      }
    },
    {
      "cell_type": "code",
      "execution_count": null,
      "outputs": [],
      "source": "## Explainatory Data Analysis",
      "metadata": {
        "pycharm": {
          "metadata": false,
          "name": "#%%\n"
        }
      }
    },
    {
      "cell_type": "code",
      "execution_count": null,
      "outputs": [],
      "source": "\n",
      "metadata": {
        "pycharm": {
          "metadata": false,
          "name": "#%%\n"
        }
      }
    }
  ],
  "metadata": {
    "language_info": {
      "codemirror_mode": {
        "name": "ipython",
        "version": 2
      },
      "file_extension": ".py",
      "mimetype": "text/x-python",
      "name": "python",
      "nbconvert_exporter": "python",
      "pygments_lexer": "ipython2",
      "version": "2.7.6"
    },
    "kernelspec": {
      "name": "python3",
      "language": "python",
      "display_name": "Python 3"
    }
  },
  "nbformat": 4,
  "nbformat_minor": 0
}