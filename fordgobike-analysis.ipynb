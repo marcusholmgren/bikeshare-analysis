{
  "cells": [
    {
      "cell_type": "markdown",
      "metadata": {
        "collapsed": true,
        "pycharm": {
          "name": "#%% md\n"
        }
      },
      "source": "# Data Analysis of the Ford GoBike\u0027s trip data\nThe public trip data of bike rides.\n\n\n[The Data](https://www.fordgobike.com/system-data)  \nEach trip is anonymized and includes:\n* Trip Duration (seconds)\n* Start Time and Date\n* End Time and Date\n* Start Station ID\n* Start Station Name\n* Start Station Latitude\n* Start Station Longitude\n* End Station ID\n* End Station Name\n* End Station Latitude\n* End Station Longitude\n* Bike ID\n* User Type (Subscriber or Customer – “Subscriber” \u003d Member or “Customer” \u003d Casual)\n* Member Year of Birth\n* Member Gender\n\n"
    },
    {
      "cell_type": "code",
      "execution_count": 1,
      "outputs": [],
      "source": "import requests\nimport os, sys\nimport re\nimport pandas as pd\nimport numpy as np\nimport zipfile\nimport json\nimport matplotlib.pyplot as plt\nimport seaborn as sns\n%matplotlib inline",
      "metadata": {
        "pycharm": {
          "metadata": false,
          "name": "#%%\n",
          "is_executing": false
        }
      }
    },
    {
      "cell_type": "code",
      "execution_count": 2,
      "outputs": [],
      "source": "DOWNLOADS_DIR \u003d \u0027downloads\u0027\nDATA_DIR \u003d \u0027data\u0027\nIMAGES_DIR \u003d \u0027images\u0027\n\ndef ensure_dir(file_path\u003dDOWNLOADS_DIR):\n    \"\"\"\n    Ensure directory exists or create it.\n    :param file_path: directory path\n    :return: \n    \"\"\"\n    if not os.path.exists(file_path):\n        os.makedirs(file_path)\n\n        \ndef download(*urls):\n    \"\"\"\n    Download files from the provided URL.\n    :param urls: variable number of URL\n    :return: None\n    \"\"\"\n    ensure_dir()\n    for url in urls:\n        url_file \u003d os.path.join(DOWNLOADS_DIR, url.split(os.path.sep)[-1]).replace(\u0027-\u0027, \u0027_\u0027)\n        if not os.path.exists(url_file):\n            response \u003d requests.get(url, allow_redirects\u003dTrue)\n            with open(url_file, \u0027wb\u0027) as handle:\n                handle.write(response.content)\n                sys.stdout.write(\u0027.\u0027)\n    sys.stdout.write(\u0027\\n\u0027)\n\n\ndef download_img(name, url):\n    \"\"\"\n    Download image from the provided URL\n    :param name: name of image file\n    :param url: URL for image\n    :return: None\n    \"\"\"\n    ensure_dir(IMAGES_DIR)\n    image_file \u003d os.path.join(IMAGES_DIR, f\"{name}.{url.split(\u0027.\u0027)[-1]}\")\n    if not os.path.exists(image_file):\n        response \u003d requests.get(url, allow_redirects\u003dTrue)\n        with open(image_file, \u0027wb\u0027) as handle:\n            handle.write(response.content)\n\n\ndef extract_zip(file, path\u003dDATA_DIR):\n    \"\"\"\n    Extract alla files from a zip archive.\n    :param file: file name of archive.\n    :param path: target directory for unzipped files.\n    :return: a list of file names in the archive.\n    \"\"\"\n    with zipfile.ZipFile(os.path.join(DOWNLOADS_DIR, file), \u0027r\u0027) as zip_ref:\n        zip_ref.extractall(path)\n        return zip_ref.namelist()\n\ndef rename(file_from, file_to, directory\u003dDOWNLOADS_DIR):\n    \"\"\"\n    Rename file in the \n    :param file_from: Existing file to rename\n    :param file_to: Target file name\n    :param directory: Source directory, defaults to DOWNLOADS_DIR\n    :return: None\n    \"\"\"\n    source \u003d os.path.join(directory, file_from)\n    if os.path.exists(source):\n        os.rename(source, os.path.join(directory, file_to))\n\n\ndef file_exists(filename, directory\u003dDOWNLOADS_DIR):\n    \"\"\"\n    Check if the file exists in a optional provided directory.\n    :param filename: name of file\n    :param directory: Source directory, defaults to DOWNLOADS_DIR\n    :return: True if file exists.\n    \"\"\"\n    return os.path.exists(os.path.join(directory, filename))",
      "metadata": {
        "pycharm": {
          "metadata": false,
          "name": "#%%\n",
          "is_executing": false
        }
      }
    },
    {
      "cell_type": "markdown",
      "source": "## Gather",
      "metadata": {
        "pycharm": {
          "metadata": false,
          "name": "#%% md\n"
        }
      }
    },
    {
      "cell_type": "code",
      "source": "download(\u0027https://s3.amazonaws.com/fordgobike-data/201801-fordgobike-tripdata.csv.zip\u0027, \n        \u0027https://s3.amazonaws.com/fordgobike-data/201802-fordgobike-tripdata.csv.zip\u0027, \n        \u0027https://s3.amazonaws.com/fordgobike-data/201803-fordgobike-tripdata.csv.zip\u0027,\n        \u0027https://s3.amazonaws.com/fordgobike-data/201804-fordgobike-tripdata.csv.zip\u0027,\n        \u0027https://s3.amazonaws.com/fordgobike-data/201805-fordgobike-tripdata.csv.zip\u0027,\n        \u0027https://s3.amazonaws.com/fordgobike-data/201806-fordgobike-tripdata.csv.zip\u0027,\n        \u0027https://s3.amazonaws.com/fordgobike-data/201807-fordgobike-tripdata.csv.zip\u0027,\n        \u0027https://s3.amazonaws.com/fordgobike-data/201808-fordgobike-tripdata.csv.zip\u0027,\n        \u0027https://s3.amazonaws.com/fordgobike-data/201809-fordgobike-tripdata.csv.zip\u0027,\n        \u0027https://s3.amazonaws.com/fordgobike-data/201810-fordgobike-tripdata.csv.zip\u0027,\n        \u0027https://s3.amazonaws.com/fordgobike-data/201811-fordgobike-tripdata.csv.zip\u0027,\n        \u0027https://s3.amazonaws.com/fordgobike-data/201812-fordgobike-tripdata.csv.zip\u0027,\n        \u0027https://s3.amazonaws.com/fordgobike-data/201901-fordgobike-tripdata.csv.zip\u0027,\n        \u0027https://s3.amazonaws.com/fordgobike-data/201902-fordgobike-tripdata.csv.zip\u0027)",
      "metadata": {
        "pycharm": {
          "metadata": false,
          "name": "#%%\n",
          "is_executing": false
        }
      },
      "execution_count": 19,
      "outputs": [
        {
          "name": "stdout",
          "text": [
            ".",
            ".",
            ".",
            ".",
            ".",
            ".",
            ".",
            ".",
            ".",
            ".",
            ".",
            ".",
            ".",
            ".\n"
          ],
          "output_type": "stream"
        }
      ]
    },
    {
      "cell_type": "code",
      "execution_count": 20,
      "outputs": [
        {
          "name": "stdout",
          "text": [
            "201801_fordgobike_tripdata.csv.zip\n201812_fordgobike_tripdata.csv.zip\n201804_fordgobike_tripdata.csv.zip\n201805_fordgobike_tripdata.csv.zip\n201901_fordgobike_tripdata.csv.zip\n201809_fordgobike_tripdata.csv.zip\n201902_fordgobike_tripdata.csv.zip\n201803_fordgobike_tripdata.csv.zip\n201810_fordgobike_tripdata.csv.zip\n201806_fordgobike_tripdata.csv.zip\n201808_fordgobike_tripdata.csv.zip\n201811_fordgobike_tripdata.csv.zip\n201807_fordgobike_tripdata.csv.zip\n201802_fordgobike_tripdata.csv.zip\n"
          ],
          "output_type": "stream"
        }
      ],
      "source": "for file in os.listdir(DOWNLOADS_DIR):\n    print(file)",
      "metadata": {
        "pycharm": {
          "metadata": false,
          "name": "#%%\n",
          "is_executing": false
        }
      }
    },
    {
      "cell_type": "code",
      "execution_count": 22,
      "outputs": [],
      "source": "zip_files \u003d [file for file in os.listdir(DOWNLOADS_DIR) if file.endswith(\u0027.zip\u0027) and os.path.isfile(os.path.join(DOWNLOADS_DIR, file))]",
      "metadata": {
        "pycharm": {
          "metadata": false,
          "name": "#%%\n",
          "is_executing": false
        }
      }
    },
    {
      "cell_type": "code",
      "execution_count": 23,
      "outputs": [
        {
          "name": "stdout",
          "text": [
            "201802-fordgobike-tripdata.csv\n201811-fordgobike-tripdata.csv\n201809-fordgobike-tripdata.csv\n201806-fordgobike-tripdata.csv\n201805-fordgobike-tripdata.csv\n201812-fordgobike-tripdata.csv\n201801-fordgobike-tripdata.csv\n201901-fordgobike-tripdata.csv\n201807-fordgobike-tripdata.csv\n201808-fordgobike-tripdata.csv\n201810-fordgobike-tripdata.csv\n201803-fordgobike-tripdata.csv\n201804-fordgobike-tripdata.csv\n201902-fordgobike-tripdata.csv\n"
          ],
          "output_type": "stream"
        }
      ],
      "source": "for file in zip_files:\n    extract_zip(file, DATA_DIR)\nfor file in os.listdir(DATA_DIR):\n    print(file)",
      "metadata": {
        "pycharm": {
          "metadata": false,
          "name": "#%%\n",
          "is_executing": false
        }
      }
    },
    {
      "cell_type": "code",
      "execution_count": 40,
      "outputs": [],
      "source": "tripdata_files \u003d [file for file in os.listdir(DATA_DIR) if file.endswith(\u0027.csv\u0027) and os.path.isfile(os.path.join(DATA_DIR, file))]",
      "metadata": {
        "pycharm": {
          "metadata": false,
          "name": "#%%\n",
          "is_executing": false
        }
      }
    },
    {
      "cell_type": "markdown",
      "source": "## Assess\n\nQuality issues in data source\n* start_time - parse as datetime\n* end_time - parse as datetime\n* member_birth_year - seems to be optional and several member are over 100 years old",
      "metadata": {
        "pycharm": {
          "metadata": false,
          "name": "#%% md\n"
        }
      }
    },
    {
      "cell_type": "code",
      "execution_count": 41,
      "outputs": [
        {
          "data": {
            "text/plain": "(2239215, 16)"
          },
          "metadata": {},
          "output_type": "execute_result",
          "execution_count": 41
        }
      ],
      "source": "dataframes \u003d [pd.read_csv(os.path.join(DATA_DIR, file)) for file in tripdata_files]\n\nbikeshare_df \u003d pd.concat(dataframes)\ndel tripdata_files\ndel dataframes\nbikeshare_df.shape",
      "metadata": {
        "pycharm": {
          "metadata": false,
          "name": "#%%\n",
          "is_executing": false
        }
      }
    },
    {
      "cell_type": "code",
      "execution_count": 42,
      "outputs": [
        {
          "data": {
            "text/plain": "duration_sec                    0\nstart_time                      0\nend_time                        0\nstart_station_id            12216\nstart_station_name          12216\nstart_station_latitude          0\nstart_station_longitude         0\nend_station_id              12216\nend_station_name            12216\nend_station_latitude            0\nend_station_longitude           0\nbike_id                         0\nuser_type                       0\nmember_birth_year          128703\nmember_gender              128349\nbike_share_for_all_trip         0\ndtype: int64"
          },
          "metadata": {},
          "output_type": "execute_result",
          "execution_count": 42
        }
      ],
      "source": "bikeshare_df.isnull().sum()",
      "metadata": {
        "pycharm": {
          "metadata": false,
          "name": "#%%\n",
          "is_executing": false
        }
      }
    },
    {
      "cell_type": "code",
      "execution_count": 14,
      "outputs": [
        {
          "name": "stdout",
          "text": [
            "\u003cclass \u0027pandas.core.frame.DataFrame\u0027\u003e\nInt64Index: 2239215 entries, 0 to 183411\nData columns (total 16 columns):\nduration_sec               int64\nstart_time                 object\nend_time                   object\nstart_station_id           float64\nstart_station_name         object\nstart_station_latitude     float64\nstart_station_longitude    float64\nend_station_id             float64\nend_station_name           object\nend_station_latitude       float64\nend_station_longitude      float64\nbike_id                    int64\nuser_type                  object\nmember_birth_year          float64\nmember_gender              object\nbike_share_for_all_trip    object\ndtypes: float64(7), int64(2), object(7)\nmemory usage: 290.4+ MB\n"
          ],
          "output_type": "stream"
        }
      ],
      "source": "bikeshare_df.info()",
      "metadata": {
        "pycharm": {
          "metadata": false,
          "name": "#%%\n",
          "is_executing": false
        }
      }
    },
    {
      "cell_type": "code",
      "execution_count": 47,
      "outputs": [
        {
          "name": "stdout",
          "text": [
            "Customer born in range from min: 1878.0 - max: 2001.0\n"
          ],
          "output_type": "stream"
        },
        {
          "data": {
            "text/plain": "1900.0    751\n1902.0    192\n1901.0     44\n1888.0     23\n1904.0     12\n1881.0      5\n1909.0      4\n1889.0      3\n1906.0      2\n1903.0      1\n1878.0      1\nName: member_birth_year, dtype: int64"
          },
          "metadata": {},
          "output_type": "execute_result",
          "execution_count": 47
        }
      ],
      "source": "print(f\"Customer born in range from min: {bikeshare_df[\u0027member_birth_year\u0027].min()} - max: {bikeshare_df[\u0027member_birth_year\u0027].dropna().max()}\")\nbikeshare_df.query(\"member_birth_year \u003c 1910\")[\u0027member_birth_year\u0027].value_counts()",
      "metadata": {
        "pycharm": {
          "metadata": false,
          "name": "#%%\n",
          "is_executing": false
        }
      }
    },
    {
      "cell_type": "markdown",
      "source": "## Clean\n\nDefine:\n* __start_time__ and __end_time__ parse as datetime\n\nCode and Test",
      "metadata": {
        "pycharm": {
          "metadata": false,
          "name": "#%% md\n"
        }
      }
    },
    {
      "cell_type": "code",
      "execution_count": 37,
      "outputs": [],
      "source": "bikeshare_df[\u0027start_time\u0027] \u003d pd.to_datetime(bikeshare_df[\u0027start_time\u0027])\nbikeshare_df[\u0027end_time\u0027] \u003d pd.to_datetime(bikeshare_df[\u0027end_time\u0027])",
      "metadata": {
        "pycharm": {
          "metadata": false,
          "name": "#%%\n",
          "is_executing": false
        }
      }
    },
    {
      "cell_type": "code",
      "execution_count": 38,
      "outputs": [
        {
          "name": "stdout",
          "text": [
            "\u003cclass \u0027pandas.core.frame.DataFrame\u0027\u003e\nInt64Index: 2239215 entries, 0 to 183411\nData columns (total 16 columns):\nduration_sec               int64\nstart_time                 datetime64[ns]\nend_time                   datetime64[ns]\nstart_station_id           float64\nstart_station_name         object\nstart_station_latitude     float64\nstart_station_longitude    float64\nend_station_id             float64\nend_station_name           object\nend_station_latitude       float64\nend_station_longitude      float64\nbike_id                    int64\nuser_type                  object\nmember_birth_year          object\nmember_gender              object\nbike_share_for_all_trip    object\ndtypes: datetime64[ns](2), float64(6), int64(2), object(6)\nmemory usage: 290.4+ MB\n"
          ],
          "output_type": "stream"
        }
      ],
      "source": "",
      "metadata": {
        "pycharm": {
          "metadata": false,
          "name": "#%%\n",
          "is_executing": false
        }
      }
    },
    {
      "cell_type": "code",
      "execution_count": 43,
      "outputs": [
        {
          "name": "stdout",
          "text": [
            "min: 1878.0 - max: 2001.0\n"
          ],
          "output_type": "stream"
        }
      ],
      "source": "",
      "metadata": {
        "pycharm": {
          "metadata": false,
          "name": "#%%\n",
          "is_executing": false
        }
      }
    },
    {
      "cell_type": "markdown",
      "source": "## Exploratory Data Analysis",
      "metadata": {
        "pycharm": {
          "metadata": false,
          "name": "#%% md\n"
        }
      }
    },
    {
      "cell_type": "code",
      "execution_count": 92,
      "outputs": [
        {
          "data": {
            "text/plain": "\u003cFigure size 432x288 with 1 Axes\u003e",
            "image/png": "[encoded data removed]"
          },
          "metadata": {
            "needs_background": "light"
          },
          "output_type": "display_data"
        }
      ],
      "source": "bins \u003d [0, 300, 600, 900, 1800, 3600, 7200, 14400, 86400]\nlabels \u003d [\u0027\u003c 5 min\u0027, \u0027\u003c 10 min\u0027, \u0027\u003c 15 min\u0027, \u0027\u003c 30 min\u0027, \u0027\u003c 1 hour\u0027, \u0027\u003c 2 hours\u0027, \u0027\u003c 4 hours\u0027, \u002724 hours or more\u0027]\n\nduration_quartiles \u003d pd.cut(bikeshare_df[\u0027duration_sec\u0027], bins\u003dbins, labels\u003dlabels)\nbinned_duration \u003d duration_quartiles.value_counts(sort\u003dFalse)\n#binned_duration.columns \u003d [\u0027duration\u0027, \u0027sum\u0027]\nax \u003d sns.barplot(binned_duration.index, binned_duration, color\u003d\u0027steelblue\u0027)\nax.set(title\u003d\u0027sdjf\u0027, xlabel\u003d\u0027Bike rental duration\u0027, ylabel\u003d\u0027Frequencey of bike rentals\u0027)\nax.tick_params(axis\u003d\u0027x\u0027, labelrotation\u003d90)",
      "metadata": {
        "pycharm": {
          "metadata": false,
          "name": "#%%\n",
          "is_executing": false
        }
      }
    },
    {
      "cell_type": "code",
      "execution_count": 53,
      "outputs": [
        {
          "data": {
            "text/plain": "\u003cmatplotlib.axes._subplots.AxesSubplot at 0x1220b2ac8\u003e"
          },
          "metadata": {},
          "output_type": "execute_result",
          "execution_count": 53
        },
        {
          "data": {
            "text/plain": "\u003cFigure size 432x288 with 1 Axes\u003e",
            "image/png": "[encoded data removed]"
          },
          "metadata": {
            "needs_background": "light"
          },
          "output_type": "display_data"
        }
      ],
      "source": "sns.distplot(bikeshare_df[\u0027duration_sec\u0027], bins\u003d10)",
      "metadata": {
        "pycharm": {
          "metadata": false,
          "name": "#%%\n",
          "is_executing": false
        }
      }
    },
    {
      "cell_type": "code",
      "execution_count": null,
      "outputs": [],
      "source": "## Explainatory Data Analysis",
      "metadata": {
        "pycharm": {
          "metadata": false,
          "name": "#%%\n"
        }
      }
    },
    {
      "cell_type": "code",
      "execution_count": null,
      "outputs": [],
      "source": "\n",
      "metadata": {
        "pycharm": {
          "metadata": false,
          "name": "#%%\n"
        }
      }
    }
  ],
  "metadata": {
    "language_info": {
      "codemirror_mode": {
        "name": "ipython",
        "version": 2
      },
      "file_extension": ".py",
      "mimetype": "text/x-python",
      "name": "python",
      "nbconvert_exporter": "python",
      "pygments_lexer": "ipython2",
      "version": "2.7.6"
    },
    "kernelspec": {
      "name": "python3",
      "language": "python",
      "display_name": "Python 3"
    }
  },
  "nbformat": 4,
  "nbformat_minor": 0
}